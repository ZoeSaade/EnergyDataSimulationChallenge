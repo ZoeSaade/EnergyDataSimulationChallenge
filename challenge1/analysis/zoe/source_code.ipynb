{
  "nbformat": 4,
  "nbformat_minor": 0,
  "metadata": {
    "colab": {
      "name": "source_code.ipynb",
      "version": "0.3.2",
      "provenance": [],
      "collapsed_sections": []
    },
    "kernelspec": {
      "name": "python3",
      "display_name": "Python 3"
    }
  },
  "cells": [
    {
      "cell_type": "markdown",
      "metadata": {
        "id": "q0XaxnoDhc23",
        "colab_type": "text"
      },
      "source": [
        "## Imports"
      ]
    },
    {
      "cell_type": "markdown",
      "metadata": {
        "id": "CchOdKOl0Xxz",
        "colab_type": "text"
      },
      "source": [
        "We import the libraries needed for our program."
      ]
    },
    {
      "cell_type": "code",
      "metadata": {
        "id": "TftXdJwro8YC",
        "colab_type": "code",
        "colab": {}
      },
      "source": [
        "import pandas as pd\n",
        "import numpy as np\n",
        "import matplotlib.pyplot as plt\n",
        "import statistics\n",
        "from sklearn.linear_model import LinearRegression\n",
        "\n",
        "# from google.colab import drive\n",
        "# drive.mount('/content/drive')"
      ],
      "execution_count": 0,
      "outputs": []
    },
    {
      "cell_type": "markdown",
      "metadata": {
        "id": "Tm57PRw7hsw7",
        "colab_type": "text"
      },
      "source": [
        "## Loading Data"
      ]
    },
    {
      "cell_type": "markdown",
      "metadata": {
        "id": "bYzuz3sW0lH0",
        "colab_type": "text"
      },
      "source": [
        "We load the training dataset and assign it to train. <br>\n",
        "We load the testing dataset and assign it to test. <br>"
      ]
    },
    {
      "cell_type": "code",
      "metadata": {
        "id": "7wNf78zjppdq",
        "colab_type": "code",
        "colab": {}
      },
      "source": [
        "train = pd.read_csv('.../data/training_dataset_500.csv')\n",
        "test = pd.read_csv('.../data/test_dataset_500.csv')"
      ],
      "execution_count": 0,
      "outputs": []
    },
    {
      "cell_type": "markdown",
      "metadata": {
        "id": "bwDDyXMQh7Bh",
        "colab_type": "text"
      },
      "source": [
        "## Exploratory Data Analysis"
      ]
    },
    {
      "cell_type": "markdown",
      "metadata": {
        "id": "qJ7NJ9Bj04gs",
        "colab_type": "text"
      },
      "source": [
        "Before choosing a model, we will get to know our datasets through exploratory data analysis."
      ]
    },
    {
      "cell_type": "markdown",
      "metadata": {
        "id": "zutXolvj1ZvM",
        "colab_type": "text"
      },
      "source": [
        "**First Five Observations from the Training Dataset**\n",
        "\n"
      ]
    },
    {
      "cell_type": "code",
      "metadata": {
        "id": "gm2xc4Pwp5Ia",
        "colab_type": "code",
        "outputId": "7b3781fc-2033-4c12-d916-6fef2a541ead",
        "colab": {
          "base_uri": "https://localhost:8080/",
          "height": 224
        }
      },
      "source": [
        "train.head()"
      ],
      "execution_count": 3,
      "outputs": [
        {
          "output_type": "execute_result",
          "data": {
            "text/html": [
              "<div>\n",
              "<style scoped>\n",
              "    .dataframe tbody tr th:only-of-type {\n",
              "        vertical-align: middle;\n",
              "    }\n",
              "\n",
              "    .dataframe tbody tr th {\n",
              "        vertical-align: top;\n",
              "    }\n",
              "\n",
              "    .dataframe thead th {\n",
              "        text-align: right;\n",
              "    }\n",
              "</style>\n",
              "<table border=\"1\" class=\"dataframe\">\n",
              "  <thead>\n",
              "    <tr style=\"text-align: right;\">\n",
              "      <th></th>\n",
              "      <th>ID</th>\n",
              "      <th>Label</th>\n",
              "      <th>House</th>\n",
              "      <th>Year</th>\n",
              "      <th>Month</th>\n",
              "      <th>Temperature</th>\n",
              "      <th>Daylight</th>\n",
              "      <th>EnergyProduction</th>\n",
              "    </tr>\n",
              "  </thead>\n",
              "  <tbody>\n",
              "    <tr>\n",
              "      <th>0</th>\n",
              "      <td>0</td>\n",
              "      <td>0</td>\n",
              "      <td>1</td>\n",
              "      <td>2011</td>\n",
              "      <td>7</td>\n",
              "      <td>26.2</td>\n",
              "      <td>178.9</td>\n",
              "      <td>740</td>\n",
              "    </tr>\n",
              "    <tr>\n",
              "      <th>1</th>\n",
              "      <td>1</td>\n",
              "      <td>1</td>\n",
              "      <td>1</td>\n",
              "      <td>2011</td>\n",
              "      <td>8</td>\n",
              "      <td>25.8</td>\n",
              "      <td>169.7</td>\n",
              "      <td>731</td>\n",
              "    </tr>\n",
              "    <tr>\n",
              "      <th>2</th>\n",
              "      <td>2</td>\n",
              "      <td>2</td>\n",
              "      <td>1</td>\n",
              "      <td>2011</td>\n",
              "      <td>9</td>\n",
              "      <td>22.8</td>\n",
              "      <td>170.2</td>\n",
              "      <td>694</td>\n",
              "    </tr>\n",
              "    <tr>\n",
              "      <th>3</th>\n",
              "      <td>3</td>\n",
              "      <td>3</td>\n",
              "      <td>1</td>\n",
              "      <td>2011</td>\n",
              "      <td>10</td>\n",
              "      <td>16.4</td>\n",
              "      <td>169.1</td>\n",
              "      <td>688</td>\n",
              "    </tr>\n",
              "    <tr>\n",
              "      <th>4</th>\n",
              "      <td>4</td>\n",
              "      <td>4</td>\n",
              "      <td>1</td>\n",
              "      <td>2011</td>\n",
              "      <td>11</td>\n",
              "      <td>11.4</td>\n",
              "      <td>169.1</td>\n",
              "      <td>650</td>\n",
              "    </tr>\n",
              "  </tbody>\n",
              "</table>\n",
              "</div>"
            ],
            "text/plain": [
              "   ID  Label  House  Year  Month  Temperature  Daylight  EnergyProduction\n",
              "0   0      0      1  2011      7         26.2     178.9               740\n",
              "1   1      1      1  2011      8         25.8     169.7               731\n",
              "2   2      2      1  2011      9         22.8     170.2               694\n",
              "3   3      3      1  2011     10         16.4     169.1               688\n",
              "4   4      4      1  2011     11         11.4     169.1               650"
            ]
          },
          "metadata": {
            "tags": []
          },
          "execution_count": 3
        }
      ]
    },
    {
      "cell_type": "markdown",
      "metadata": {
        "id": "s5rcgaUBiSNz",
        "colab_type": "text"
      },
      "source": [
        "**First 5 observation from the Testing Dataset**"
      ]
    },
    {
      "cell_type": "code",
      "metadata": {
        "id": "h4u0U5_c1L5d",
        "colab_type": "code",
        "colab": {
          "base_uri": "https://localhost:8080/",
          "height": 224
        },
        "outputId": "5cd24826-caad-4d15-8689-aeb1485546b5"
      },
      "source": [
        "test.head()"
      ],
      "execution_count": 4,
      "outputs": [
        {
          "output_type": "execute_result",
          "data": {
            "text/html": [
              "<div>\n",
              "<style scoped>\n",
              "    .dataframe tbody tr th:only-of-type {\n",
              "        vertical-align: middle;\n",
              "    }\n",
              "\n",
              "    .dataframe tbody tr th {\n",
              "        vertical-align: top;\n",
              "    }\n",
              "\n",
              "    .dataframe thead th {\n",
              "        text-align: right;\n",
              "    }\n",
              "</style>\n",
              "<table border=\"1\" class=\"dataframe\">\n",
              "  <thead>\n",
              "    <tr style=\"text-align: right;\">\n",
              "      <th></th>\n",
              "      <th>ID</th>\n",
              "      <th>Label</th>\n",
              "      <th>House</th>\n",
              "      <th>Year</th>\n",
              "      <th>Month</th>\n",
              "      <th>Temperature</th>\n",
              "      <th>Daylight</th>\n",
              "      <th>EnergyProduction</th>\n",
              "    </tr>\n",
              "  </thead>\n",
              "  <tbody>\n",
              "    <tr>\n",
              "      <th>0</th>\n",
              "      <td>23</td>\n",
              "      <td>23</td>\n",
              "      <td>1</td>\n",
              "      <td>2013</td>\n",
              "      <td>6</td>\n",
              "      <td>22.0</td>\n",
              "      <td>125.5</td>\n",
              "      <td>778</td>\n",
              "    </tr>\n",
              "    <tr>\n",
              "      <th>1</th>\n",
              "      <td>47</td>\n",
              "      <td>23</td>\n",
              "      <td>2</td>\n",
              "      <td>2013</td>\n",
              "      <td>6</td>\n",
              "      <td>21.1</td>\n",
              "      <td>123.1</td>\n",
              "      <td>627</td>\n",
              "    </tr>\n",
              "    <tr>\n",
              "      <th>2</th>\n",
              "      <td>71</td>\n",
              "      <td>23</td>\n",
              "      <td>3</td>\n",
              "      <td>2013</td>\n",
              "      <td>6</td>\n",
              "      <td>21.9</td>\n",
              "      <td>126.8</td>\n",
              "      <td>735</td>\n",
              "    </tr>\n",
              "    <tr>\n",
              "      <th>3</th>\n",
              "      <td>95</td>\n",
              "      <td>23</td>\n",
              "      <td>4</td>\n",
              "      <td>2013</td>\n",
              "      <td>6</td>\n",
              "      <td>20.2</td>\n",
              "      <td>125.2</td>\n",
              "      <td>533</td>\n",
              "    </tr>\n",
              "    <tr>\n",
              "      <th>4</th>\n",
              "      <td>119</td>\n",
              "      <td>23</td>\n",
              "      <td>5</td>\n",
              "      <td>2013</td>\n",
              "      <td>6</td>\n",
              "      <td>20.2</td>\n",
              "      <td>125.2</td>\n",
              "      <td>533</td>\n",
              "    </tr>\n",
              "  </tbody>\n",
              "</table>\n",
              "</div>"
            ],
            "text/plain": [
              "    ID  Label  House  Year  Month  Temperature  Daylight  EnergyProduction\n",
              "0   23     23      1  2013      6         22.0     125.5               778\n",
              "1   47     23      2  2013      6         21.1     123.1               627\n",
              "2   71     23      3  2013      6         21.9     126.8               735\n",
              "3   95     23      4  2013      6         20.2     125.2               533\n",
              "4  119     23      5  2013      6         20.2     125.2               533"
            ]
          },
          "metadata": {
            "tags": []
          },
          "execution_count": 4
        }
      ]
    },
    {
      "cell_type": "markdown",
      "metadata": {
        "id": "yRJD85Lb19L4",
        "colab_type": "text"
      },
      "source": [
        "**Shape of the Training Dataset**"
      ]
    },
    {
      "cell_type": "code",
      "metadata": {
        "id": "yRrqdLv0qSuq",
        "colab_type": "code",
        "outputId": "603696bc-2231-4c67-d78e-269fa147cd15",
        "colab": {
          "base_uri": "https://localhost:8080/",
          "height": 34
        }
      },
      "source": [
        "train.shape"
      ],
      "execution_count": 5,
      "outputs": [
        {
          "output_type": "execute_result",
          "data": {
            "text/plain": [
              "(11500, 8)"
            ]
          },
          "metadata": {
            "tags": []
          },
          "execution_count": 5
        }
      ]
    },
    {
      "cell_type": "markdown",
      "metadata": {
        "id": "WOLX6U0kilRt",
        "colab_type": "text"
      },
      "source": [
        "The training dataset comprises 11500 observations (rows) and 8 characteristics (columns). "
      ]
    },
    {
      "cell_type": "markdown",
      "metadata": {
        "id": "w39aMAQP2JFW",
        "colab_type": "text"
      },
      "source": [
        "**Shape of the Testing Dataset**"
      ]
    },
    {
      "cell_type": "code",
      "metadata": {
        "id": "L1eKMT1K2NH4",
        "colab_type": "code",
        "colab": {
          "base_uri": "https://localhost:8080/",
          "height": 34
        },
        "outputId": "c699c474-ab27-47b5-b672-d4b080d413d2"
      },
      "source": [
        "test.shape"
      ],
      "execution_count": 6,
      "outputs": [
        {
          "output_type": "execute_result",
          "data": {
            "text/plain": [
              "(500, 8)"
            ]
          },
          "metadata": {
            "tags": []
          },
          "execution_count": 6
        }
      ]
    },
    {
      "cell_type": "markdown",
      "metadata": {
        "id": "nO1nkzeG2PgK",
        "colab_type": "text"
      },
      "source": [
        "The testing dataset comprises 500 observations (rows) and 8 characetristics (columns). <br>\n"
      ]
    },
    {
      "cell_type": "markdown",
      "metadata": {
        "id": "AuF79xaB2m9T",
        "colab_type": "text"
      },
      "source": [
        "The training dataset holds monthly data on 500 households from July 2011 to May 2013. <br>\n",
        "The testing dataset holds data on 500 households for the month of June 2013."
      ]
    },
    {
      "cell_type": "markdown",
      "metadata": {
        "id": "3E99iivZ3Clb",
        "colab_type": "text"
      },
      "source": [
        "**Information on the Training Dataset**"
      ]
    },
    {
      "cell_type": "code",
      "metadata": {
        "id": "yLAE6ZRzqcQW",
        "colab_type": "code",
        "outputId": "9b972038-cbc2-48da-d9b8-e2a73854a37a",
        "colab": {
          "base_uri": "https://localhost:8080/",
          "height": 238
        }
      },
      "source": [
        "train.info()"
      ],
      "execution_count": 7,
      "outputs": [
        {
          "output_type": "stream",
          "text": [
            "<class 'pandas.core.frame.DataFrame'>\n",
            "RangeIndex: 11500 entries, 0 to 11499\n",
            "Data columns (total 8 columns):\n",
            "ID                  11500 non-null int64\n",
            "Label               11500 non-null int64\n",
            "House               11500 non-null int64\n",
            "Year                11500 non-null int64\n",
            "Month               11500 non-null int64\n",
            "Temperature         11500 non-null float64\n",
            "Daylight            11500 non-null float64\n",
            "EnergyProduction    11500 non-null int64\n",
            "dtypes: float64(2), int64(6)\n",
            "memory usage: 718.8 KB\n"
          ],
          "name": "stdout"
        }
      ]
    },
    {
      "cell_type": "markdown",
      "metadata": {
        "id": "w4t4fSlBjdpu",
        "colab_type": "text"
      },
      "source": [
        "The training dataset is made up of integer and float values. <br>\n",
        "No column has null/missing values. <br>\n",
        "The dependent variable, EnergyProduction is numerical and of integer type.\n",
        "\n"
      ]
    },
    {
      "cell_type": "markdown",
      "metadata": {
        "id": "X7nIlk6a3PFp",
        "colab_type": "text"
      },
      "source": [
        "**Information on the Testing Dataset**"
      ]
    },
    {
      "cell_type": "code",
      "metadata": {
        "id": "u6-0BAVp3VUU",
        "colab_type": "code",
        "colab": {
          "base_uri": "https://localhost:8080/",
          "height": 238
        },
        "outputId": "c34627d0-305f-4229-d76b-d6964d40723b"
      },
      "source": [
        "test.info()"
      ],
      "execution_count": 8,
      "outputs": [
        {
          "output_type": "stream",
          "text": [
            "<class 'pandas.core.frame.DataFrame'>\n",
            "RangeIndex: 500 entries, 0 to 499\n",
            "Data columns (total 8 columns):\n",
            "ID                  500 non-null int64\n",
            "Label               500 non-null int64\n",
            "House               500 non-null int64\n",
            "Year                500 non-null int64\n",
            "Month               500 non-null int64\n",
            "Temperature         500 non-null float64\n",
            "Daylight            500 non-null float64\n",
            "EnergyProduction    500 non-null int64\n",
            "dtypes: float64(2), int64(6)\n",
            "memory usage: 31.3 KB\n"
          ],
          "name": "stdout"
        }
      ]
    },
    {
      "cell_type": "markdown",
      "metadata": {
        "id": "9dC_-iMS3YSq",
        "colab_type": "text"
      },
      "source": [
        "Like the training dataset, the testing dataset is made up of integer and float values, and has no null/missing values. "
      ]
    },
    {
      "cell_type": "markdown",
      "metadata": {
        "id": "s_XhimXi4Boo",
        "colab_type": "text"
      },
      "source": [
        "**Summary Statistics of the Training Dataset**"
      ]
    },
    {
      "cell_type": "code",
      "metadata": {
        "id": "uRL89lrpqnGu",
        "colab_type": "code",
        "outputId": "3e9a9080-209d-4ba4-8a8d-41d02edbab9e",
        "colab": {
          "base_uri": "https://localhost:8080/",
          "height": 337
        }
      },
      "source": [
        "train.describe()"
      ],
      "execution_count": 9,
      "outputs": [
        {
          "output_type": "execute_result",
          "data": {
            "text/html": [
              "<div>\n",
              "<style scoped>\n",
              "    .dataframe tbody tr th:only-of-type {\n",
              "        vertical-align: middle;\n",
              "    }\n",
              "\n",
              "    .dataframe tbody tr th {\n",
              "        vertical-align: top;\n",
              "    }\n",
              "\n",
              "    .dataframe thead th {\n",
              "        text-align: right;\n",
              "    }\n",
              "</style>\n",
              "<table border=\"1\" class=\"dataframe\">\n",
              "  <thead>\n",
              "    <tr style=\"text-align: right;\">\n",
              "      <th></th>\n",
              "      <th>ID</th>\n",
              "      <th>Label</th>\n",
              "      <th>House</th>\n",
              "      <th>Year</th>\n",
              "      <th>Month</th>\n",
              "      <th>Temperature</th>\n",
              "      <th>Daylight</th>\n",
              "      <th>EnergyProduction</th>\n",
              "    </tr>\n",
              "  </thead>\n",
              "  <tbody>\n",
              "    <tr>\n",
              "      <th>count</th>\n",
              "      <td>11500.000000</td>\n",
              "      <td>11500.000000</td>\n",
              "      <td>11500.000000</td>\n",
              "      <td>11500.000000</td>\n",
              "      <td>11500.000000</td>\n",
              "      <td>11500.000000</td>\n",
              "      <td>11500.000000</td>\n",
              "      <td>11500.000000</td>\n",
              "    </tr>\n",
              "    <tr>\n",
              "      <th>mean</th>\n",
              "      <td>5999.000000</td>\n",
              "      <td>11.000000</td>\n",
              "      <td>250.500000</td>\n",
              "      <td>2011.956522</td>\n",
              "      <td>6.521739</td>\n",
              "      <td>14.372348</td>\n",
              "      <td>189.121870</td>\n",
              "      <td>612.748870</td>\n",
              "    </tr>\n",
              "    <tr>\n",
              "      <th>std</th>\n",
              "      <td>3464.251661</td>\n",
              "      <td>6.633538</td>\n",
              "      <td>144.343555</td>\n",
              "      <td>0.690226</td>\n",
              "      <td>3.524843</td>\n",
              "      <td>8.490811</td>\n",
              "      <td>29.432125</td>\n",
              "      <td>142.006144</td>\n",
              "    </tr>\n",
              "    <tr>\n",
              "      <th>min</th>\n",
              "      <td>0.000000</td>\n",
              "      <td>0.000000</td>\n",
              "      <td>1.000000</td>\n",
              "      <td>2011.000000</td>\n",
              "      <td>1.000000</td>\n",
              "      <td>0.800000</td>\n",
              "      <td>133.700000</td>\n",
              "      <td>254.000000</td>\n",
              "    </tr>\n",
              "    <tr>\n",
              "      <th>25%</th>\n",
              "      <td>2999.500000</td>\n",
              "      <td>5.000000</td>\n",
              "      <td>125.750000</td>\n",
              "      <td>2011.000000</td>\n",
              "      <td>3.000000</td>\n",
              "      <td>5.300000</td>\n",
              "      <td>169.100000</td>\n",
              "      <td>509.000000</td>\n",
              "    </tr>\n",
              "    <tr>\n",
              "      <th>50%</th>\n",
              "      <td>5999.000000</td>\n",
              "      <td>11.000000</td>\n",
              "      <td>250.500000</td>\n",
              "      <td>2012.000000</td>\n",
              "      <td>7.000000</td>\n",
              "      <td>13.200000</td>\n",
              "      <td>181.800000</td>\n",
              "      <td>592.000000</td>\n",
              "    </tr>\n",
              "    <tr>\n",
              "      <th>75%</th>\n",
              "      <td>8998.500000</td>\n",
              "      <td>17.000000</td>\n",
              "      <td>375.250000</td>\n",
              "      <td>2012.000000</td>\n",
              "      <td>10.000000</td>\n",
              "      <td>22.800000</td>\n",
              "      <td>205.200000</td>\n",
              "      <td>698.000000</td>\n",
              "    </tr>\n",
              "    <tr>\n",
              "      <th>max</th>\n",
              "      <td>11998.000000</td>\n",
              "      <td>22.000000</td>\n",
              "      <td>500.000000</td>\n",
              "      <td>2013.000000</td>\n",
              "      <td>12.000000</td>\n",
              "      <td>29.000000</td>\n",
              "      <td>271.300000</td>\n",
              "      <td>1254.000000</td>\n",
              "    </tr>\n",
              "  </tbody>\n",
              "</table>\n",
              "</div>"
            ],
            "text/plain": [
              "                 ID         Label  ...      Daylight  EnergyProduction\n",
              "count  11500.000000  11500.000000  ...  11500.000000      11500.000000\n",
              "mean    5999.000000     11.000000  ...    189.121870        612.748870\n",
              "std     3464.251661      6.633538  ...     29.432125        142.006144\n",
              "min        0.000000      0.000000  ...    133.700000        254.000000\n",
              "25%     2999.500000      5.000000  ...    169.100000        509.000000\n",
              "50%     5999.000000     11.000000  ...    181.800000        592.000000\n",
              "75%     8998.500000     17.000000  ...    205.200000        698.000000\n",
              "max    11998.000000     22.000000  ...    271.300000       1254.000000\n",
              "\n",
              "[8 rows x 8 columns]"
            ]
          },
          "metadata": {
            "tags": []
          },
          "execution_count": 9
        }
      ]
    },
    {
      "cell_type": "markdown",
      "metadata": {
        "id": "Yz6V0vzG4KbX",
        "colab_type": "text"
      },
      "source": [
        "**Summary Statistics of the Testing Dataset**"
      ]
    },
    {
      "cell_type": "code",
      "metadata": {
        "id": "7htOL83Z4OGZ",
        "colab_type": "code",
        "colab": {
          "base_uri": "https://localhost:8080/",
          "height": 337
        },
        "outputId": "13f87a90-3d54-4b67-987e-00d83d7ab77d"
      },
      "source": [
        "test.describe()"
      ],
      "execution_count": 10,
      "outputs": [
        {
          "output_type": "execute_result",
          "data": {
            "text/html": [
              "<div>\n",
              "<style scoped>\n",
              "    .dataframe tbody tr th:only-of-type {\n",
              "        vertical-align: middle;\n",
              "    }\n",
              "\n",
              "    .dataframe tbody tr th {\n",
              "        vertical-align: top;\n",
              "    }\n",
              "\n",
              "    .dataframe thead th {\n",
              "        text-align: right;\n",
              "    }\n",
              "</style>\n",
              "<table border=\"1\" class=\"dataframe\">\n",
              "  <thead>\n",
              "    <tr style=\"text-align: right;\">\n",
              "      <th></th>\n",
              "      <th>ID</th>\n",
              "      <th>Label</th>\n",
              "      <th>House</th>\n",
              "      <th>Year</th>\n",
              "      <th>Month</th>\n",
              "      <th>Temperature</th>\n",
              "      <th>Daylight</th>\n",
              "      <th>EnergyProduction</th>\n",
              "    </tr>\n",
              "  </thead>\n",
              "  <tbody>\n",
              "    <tr>\n",
              "      <th>count</th>\n",
              "      <td>500.000000</td>\n",
              "      <td>500.0</td>\n",
              "      <td>500.000000</td>\n",
              "      <td>500.0</td>\n",
              "      <td>500.0</td>\n",
              "      <td>500.00000</td>\n",
              "      <td>500.000000</td>\n",
              "      <td>500.000000</td>\n",
              "    </tr>\n",
              "    <tr>\n",
              "      <th>mean</th>\n",
              "      <td>6011.000000</td>\n",
              "      <td>23.0</td>\n",
              "      <td>250.500000</td>\n",
              "      <td>2013.0</td>\n",
              "      <td>6.0</td>\n",
              "      <td>21.70540</td>\n",
              "      <td>125.111400</td>\n",
              "      <td>586.774000</td>\n",
              "    </tr>\n",
              "    <tr>\n",
              "      <th>std</th>\n",
              "      <td>3467.563986</td>\n",
              "      <td>0.0</td>\n",
              "      <td>144.481833</td>\n",
              "      <td>0.0</td>\n",
              "      <td>0.0</td>\n",
              "      <td>0.86661</td>\n",
              "      <td>1.595726</td>\n",
              "      <td>100.292653</td>\n",
              "    </tr>\n",
              "    <tr>\n",
              "      <th>min</th>\n",
              "      <td>23.000000</td>\n",
              "      <td>23.0</td>\n",
              "      <td>1.000000</td>\n",
              "      <td>2013.0</td>\n",
              "      <td>6.0</td>\n",
              "      <td>19.30000</td>\n",
              "      <td>121.800000</td>\n",
              "      <td>451.000000</td>\n",
              "    </tr>\n",
              "    <tr>\n",
              "      <th>25%</th>\n",
              "      <td>3017.000000</td>\n",
              "      <td>23.0</td>\n",
              "      <td>125.750000</td>\n",
              "      <td>2013.0</td>\n",
              "      <td>6.0</td>\n",
              "      <td>21.10000</td>\n",
              "      <td>123.900000</td>\n",
              "      <td>518.000000</td>\n",
              "    </tr>\n",
              "    <tr>\n",
              "      <th>50%</th>\n",
              "      <td>6011.000000</td>\n",
              "      <td>23.0</td>\n",
              "      <td>250.500000</td>\n",
              "      <td>2013.0</td>\n",
              "      <td>6.0</td>\n",
              "      <td>21.90000</td>\n",
              "      <td>125.200000</td>\n",
              "      <td>565.000000</td>\n",
              "    </tr>\n",
              "    <tr>\n",
              "      <th>75%</th>\n",
              "      <td>9005.000000</td>\n",
              "      <td>23.0</td>\n",
              "      <td>375.250000</td>\n",
              "      <td>2013.0</td>\n",
              "      <td>6.0</td>\n",
              "      <td>22.50000</td>\n",
              "      <td>126.000000</td>\n",
              "      <td>668.000000</td>\n",
              "    </tr>\n",
              "    <tr>\n",
              "      <th>max</th>\n",
              "      <td>11999.000000</td>\n",
              "      <td>23.0</td>\n",
              "      <td>500.000000</td>\n",
              "      <td>2013.0</td>\n",
              "      <td>6.0</td>\n",
              "      <td>22.80000</td>\n",
              "      <td>129.100000</td>\n",
              "      <td>886.000000</td>\n",
              "    </tr>\n",
              "  </tbody>\n",
              "</table>\n",
              "</div>"
            ],
            "text/plain": [
              "                 ID  Label  ...    Daylight  EnergyProduction\n",
              "count    500.000000  500.0  ...  500.000000        500.000000\n",
              "mean    6011.000000   23.0  ...  125.111400        586.774000\n",
              "std     3467.563986    0.0  ...    1.595726        100.292653\n",
              "min       23.000000   23.0  ...  121.800000        451.000000\n",
              "25%     3017.000000   23.0  ...  123.900000        518.000000\n",
              "50%     6011.000000   23.0  ...  125.200000        565.000000\n",
              "75%     9005.000000   23.0  ...  126.000000        668.000000\n",
              "max    11999.000000   23.0  ...  129.100000        886.000000\n",
              "\n",
              "[8 rows x 8 columns]"
            ]
          },
          "metadata": {
            "tags": []
          },
          "execution_count": 10
        }
      ]
    },
    {
      "cell_type": "markdown",
      "metadata": {
        "id": "L0RJdTT0lP0s",
        "colab_type": "text"
      },
      "source": [
        "**Correlation Matrix between the Variables**"
      ]
    },
    {
      "cell_type": "code",
      "metadata": {
        "id": "1xVAhZcijxg9",
        "colab_type": "code",
        "outputId": "c39b7100-70a6-4a57-988a-83ff79698bee",
        "colab": {
          "base_uri": "https://localhost:8080/",
          "height": 166
        }
      },
      "source": [
        "variables = pd.DataFrame(data=train, columns=['House', 'Year', 'Month', 'Temperature', 'Daylight', 'EnergyProduction'])\n",
        "corr = variables.corr()\n",
        "corr.style.background_gradient(cmap='coolwarm').set_precision(2)"
      ],
      "execution_count": 11,
      "outputs": [
        {
          "output_type": "execute_result",
          "data": {
            "text/html": [
              "<style  type=\"text/css\" >\n",
              "    #T_a9b6c262_c2a4_11e9_8bac_0242ac1c0002row0_col0 {\n",
              "            background-color:  #b40426;\n",
              "            color:  #f1f1f1;\n",
              "        }    #T_a9b6c262_c2a4_11e9_8bac_0242ac1c0002row0_col1 {\n",
              "            background-color:  #bcd2f7;\n",
              "            color:  #000000;\n",
              "        }    #T_a9b6c262_c2a4_11e9_8bac_0242ac1c0002row0_col2 {\n",
              "            background-color:  #bcd2f7;\n",
              "            color:  #000000;\n",
              "        }    #T_a9b6c262_c2a4_11e9_8bac_0242ac1c0002row0_col3 {\n",
              "            background-color:  #92b4fe;\n",
              "            color:  #000000;\n",
              "        }    #T_a9b6c262_c2a4_11e9_8bac_0242ac1c0002row0_col4 {\n",
              "            background-color:  #81a4fb;\n",
              "            color:  #000000;\n",
              "        }    #T_a9b6c262_c2a4_11e9_8bac_0242ac1c0002row0_col5 {\n",
              "            background-color:  #7597f6;\n",
              "            color:  #000000;\n",
              "        }    #T_a9b6c262_c2a4_11e9_8bac_0242ac1c0002row1_col0 {\n",
              "            background-color:  #3d50c3;\n",
              "            color:  #f1f1f1;\n",
              "        }    #T_a9b6c262_c2a4_11e9_8bac_0242ac1c0002row1_col1 {\n",
              "            background-color:  #b40426;\n",
              "            color:  #f1f1f1;\n",
              "        }    #T_a9b6c262_c2a4_11e9_8bac_0242ac1c0002row1_col2 {\n",
              "            background-color:  #3b4cc0;\n",
              "            color:  #f1f1f1;\n",
              "        }    #T_a9b6c262_c2a4_11e9_8bac_0242ac1c0002row1_col3 {\n",
              "            background-color:  #3b4cc0;\n",
              "            color:  #f1f1f1;\n",
              "        }    #T_a9b6c262_c2a4_11e9_8bac_0242ac1c0002row1_col4 {\n",
              "            background-color:  #f5c4ac;\n",
              "            color:  #000000;\n",
              "        }    #T_a9b6c262_c2a4_11e9_8bac_0242ac1c0002row1_col5 {\n",
              "            background-color:  #c1d4f4;\n",
              "            color:  #000000;\n",
              "        }    #T_a9b6c262_c2a4_11e9_8bac_0242ac1c0002row2_col0 {\n",
              "            background-color:  #3d50c3;\n",
              "            color:  #f1f1f1;\n",
              "        }    #T_a9b6c262_c2a4_11e9_8bac_0242ac1c0002row2_col1 {\n",
              "            background-color:  #3b4cc0;\n",
              "            color:  #f1f1f1;\n",
              "        }    #T_a9b6c262_c2a4_11e9_8bac_0242ac1c0002row2_col2 {\n",
              "            background-color:  #b40426;\n",
              "            color:  #f1f1f1;\n",
              "        }    #T_a9b6c262_c2a4_11e9_8bac_0242ac1c0002row2_col3 {\n",
              "            background-color:  #e3d9d3;\n",
              "            color:  #000000;\n",
              "        }    #T_a9b6c262_c2a4_11e9_8bac_0242ac1c0002row2_col4 {\n",
              "            background-color:  #3b4cc0;\n",
              "            color:  #f1f1f1;\n",
              "        }    #T_a9b6c262_c2a4_11e9_8bac_0242ac1c0002row2_col5 {\n",
              "            background-color:  #3b4cc0;\n",
              "            color:  #f1f1f1;\n",
              "        }    #T_a9b6c262_c2a4_11e9_8bac_0242ac1c0002row3_col0 {\n",
              "            background-color:  #3d50c3;\n",
              "            color:  #f1f1f1;\n",
              "        }    #T_a9b6c262_c2a4_11e9_8bac_0242ac1c0002row3_col1 {\n",
              "            background-color:  #7093f3;\n",
              "            color:  #000000;\n",
              "        }    #T_a9b6c262_c2a4_11e9_8bac_0242ac1c0002row3_col2 {\n",
              "            background-color:  #f2cab5;\n",
              "            color:  #000000;\n",
              "        }    #T_a9b6c262_c2a4_11e9_8bac_0242ac1c0002row3_col3 {\n",
              "            background-color:  #b40426;\n",
              "            color:  #f1f1f1;\n",
              "        }    #T_a9b6c262_c2a4_11e9_8bac_0242ac1c0002row3_col4 {\n",
              "            background-color:  #7295f4;\n",
              "            color:  #000000;\n",
              "        }    #T_a9b6c262_c2a4_11e9_8bac_0242ac1c0002row3_col5 {\n",
              "            background-color:  #c3d5f4;\n",
              "            color:  #000000;\n",
              "        }    #T_a9b6c262_c2a4_11e9_8bac_0242ac1c0002row4_col0 {\n",
              "            background-color:  #3d50c3;\n",
              "            color:  #f1f1f1;\n",
              "        }    #T_a9b6c262_c2a4_11e9_8bac_0242ac1c0002row4_col1 {\n",
              "            background-color:  #f7a98b;\n",
              "            color:  #000000;\n",
              "        }    #T_a9b6c262_c2a4_11e9_8bac_0242ac1c0002row4_col2 {\n",
              "            background-color:  #82a6fb;\n",
              "            color:  #000000;\n",
              "        }    #T_a9b6c262_c2a4_11e9_8bac_0242ac1c0002row4_col3 {\n",
              "            background-color:  #84a7fc;\n",
              "            color:  #000000;\n",
              "        }    #T_a9b6c262_c2a4_11e9_8bac_0242ac1c0002row4_col4 {\n",
              "            background-color:  #b40426;\n",
              "            color:  #f1f1f1;\n",
              "        }    #T_a9b6c262_c2a4_11e9_8bac_0242ac1c0002row4_col5 {\n",
              "            background-color:  #f4c6af;\n",
              "            color:  #000000;\n",
              "        }    #T_a9b6c262_c2a4_11e9_8bac_0242ac1c0002row5_col0 {\n",
              "            background-color:  #3b4cc0;\n",
              "            color:  #f1f1f1;\n",
              "        }    #T_a9b6c262_c2a4_11e9_8bac_0242ac1c0002row5_col1 {\n",
              "            background-color:  #ead5c9;\n",
              "            color:  #000000;\n",
              "        }    #T_a9b6c262_c2a4_11e9_8bac_0242ac1c0002row5_col2 {\n",
              "            background-color:  #8badfd;\n",
              "            color:  #000000;\n",
              "        }    #T_a9b6c262_c2a4_11e9_8bac_0242ac1c0002row5_col3 {\n",
              "            background-color:  #d3dbe7;\n",
              "            color:  #000000;\n",
              "        }    #T_a9b6c262_c2a4_11e9_8bac_0242ac1c0002row5_col4 {\n",
              "            background-color:  #f5c1a9;\n",
              "            color:  #000000;\n",
              "        }    #T_a9b6c262_c2a4_11e9_8bac_0242ac1c0002row5_col5 {\n",
              "            background-color:  #b40426;\n",
              "            color:  #f1f1f1;\n",
              "        }</style><table id=\"T_a9b6c262_c2a4_11e9_8bac_0242ac1c0002\" ><thead>    <tr>        <th class=\"blank level0\" ></th>        <th class=\"col_heading level0 col0\" >House</th>        <th class=\"col_heading level0 col1\" >Year</th>        <th class=\"col_heading level0 col2\" >Month</th>        <th class=\"col_heading level0 col3\" >Temperature</th>        <th class=\"col_heading level0 col4\" >Daylight</th>        <th class=\"col_heading level0 col5\" >EnergyProduction</th>    </tr></thead><tbody>\n",
              "                <tr>\n",
              "                        <th id=\"T_a9b6c262_c2a4_11e9_8bac_0242ac1c0002level0_row0\" class=\"row_heading level0 row0\" >House</th>\n",
              "                        <td id=\"T_a9b6c262_c2a4_11e9_8bac_0242ac1c0002row0_col0\" class=\"data row0 col0\" >1</td>\n",
              "                        <td id=\"T_a9b6c262_c2a4_11e9_8bac_0242ac1c0002row0_col1\" class=\"data row0 col1\" >0</td>\n",
              "                        <td id=\"T_a9b6c262_c2a4_11e9_8bac_0242ac1c0002row0_col2\" class=\"data row0 col2\" >-1.8e-18</td>\n",
              "                        <td id=\"T_a9b6c262_c2a4_11e9_8bac_0242ac1c0002row0_col3\" class=\"data row0 col3\" >0.00088</td>\n",
              "                        <td id=\"T_a9b6c262_c2a4_11e9_8bac_0242ac1c0002row0_col4\" class=\"data row0 col4\" >0.0016</td>\n",
              "                        <td id=\"T_a9b6c262_c2a4_11e9_8bac_0242ac1c0002row0_col5\" class=\"data row0 col5\" >-0.0083</td>\n",
              "            </tr>\n",
              "            <tr>\n",
              "                        <th id=\"T_a9b6c262_c2a4_11e9_8bac_0242ac1c0002level0_row1\" class=\"row_heading level0 row1\" >Year</th>\n",
              "                        <td id=\"T_a9b6c262_c2a4_11e9_8bac_0242ac1c0002row1_col0\" class=\"data row1 col0\" >0</td>\n",
              "                        <td id=\"T_a9b6c262_c2a4_11e9_8bac_0242ac1c0002row1_col1\" class=\"data row1 col1\" >1</td>\n",
              "                        <td id=\"T_a9b6c262_c2a4_11e9_8bac_0242ac1c0002row1_col2\" class=\"data row1 col2\" >-0.63</td>\n",
              "                        <td id=\"T_a9b6c262_c2a4_11e9_8bac_0242ac1c0002row1_col3\" class=\"data row1 col3\" >-0.36</td>\n",
              "                        <td id=\"T_a9b6c262_c2a4_11e9_8bac_0242ac1c0002row1_col4\" class=\"data row1 col4\" >0.52</td>\n",
              "                        <td id=\"T_a9b6c262_c2a4_11e9_8bac_0242ac1c0002row1_col5\" class=\"data row1 col5\" >0.27</td>\n",
              "            </tr>\n",
              "            <tr>\n",
              "                        <th id=\"T_a9b6c262_c2a4_11e9_8bac_0242ac1c0002level0_row2\" class=\"row_heading level0 row2\" >Month</th>\n",
              "                        <td id=\"T_a9b6c262_c2a4_11e9_8bac_0242ac1c0002row2_col0\" class=\"data row2 col0\" >-1.8e-18</td>\n",
              "                        <td id=\"T_a9b6c262_c2a4_11e9_8bac_0242ac1c0002row2_col1\" class=\"data row2 col1\" >-0.63</td>\n",
              "                        <td id=\"T_a9b6c262_c2a4_11e9_8bac_0242ac1c0002row2_col2\" class=\"data row2 col2\" >1</td>\n",
              "                        <td id=\"T_a9b6c262_c2a4_11e9_8bac_0242ac1c0002row2_col3\" class=\"data row2 col3\" >0.35</td>\n",
              "                        <td id=\"T_a9b6c262_c2a4_11e9_8bac_0242ac1c0002row2_col4\" class=\"data row2 col4\" >-0.28</td>\n",
              "                        <td id=\"T_a9b6c262_c2a4_11e9_8bac_0242ac1c0002row2_col5\" class=\"data row2 col5\" >-0.23</td>\n",
              "            </tr>\n",
              "            <tr>\n",
              "                        <th id=\"T_a9b6c262_c2a4_11e9_8bac_0242ac1c0002level0_row3\" class=\"row_heading level0 row3\" >Temperature</th>\n",
              "                        <td id=\"T_a9b6c262_c2a4_11e9_8bac_0242ac1c0002row3_col0\" class=\"data row3 col0\" >0.00088</td>\n",
              "                        <td id=\"T_a9b6c262_c2a4_11e9_8bac_0242ac1c0002row3_col1\" class=\"data row3 col1\" >-0.36</td>\n",
              "                        <td id=\"T_a9b6c262_c2a4_11e9_8bac_0242ac1c0002row3_col2\" class=\"data row3 col2\" >0.35</td>\n",
              "                        <td id=\"T_a9b6c262_c2a4_11e9_8bac_0242ac1c0002row3_col3\" class=\"data row3 col3\" >1</td>\n",
              "                        <td id=\"T_a9b6c262_c2a4_11e9_8bac_0242ac1c0002row3_col4\" class=\"data row3 col4\" >-0.053</td>\n",
              "                        <td id=\"T_a9b6c262_c2a4_11e9_8bac_0242ac1c0002row3_col5\" class=\"data row3 col5\" >0.27</td>\n",
              "            </tr>\n",
              "            <tr>\n",
              "                        <th id=\"T_a9b6c262_c2a4_11e9_8bac_0242ac1c0002level0_row4\" class=\"row_heading level0 row4\" >Daylight</th>\n",
              "                        <td id=\"T_a9b6c262_c2a4_11e9_8bac_0242ac1c0002row4_col0\" class=\"data row4 col0\" >0.0016</td>\n",
              "                        <td id=\"T_a9b6c262_c2a4_11e9_8bac_0242ac1c0002row4_col1\" class=\"data row4 col1\" >0.52</td>\n",
              "                        <td id=\"T_a9b6c262_c2a4_11e9_8bac_0242ac1c0002row4_col2\" class=\"data row4 col2\" >-0.28</td>\n",
              "                        <td id=\"T_a9b6c262_c2a4_11e9_8bac_0242ac1c0002row4_col3\" class=\"data row4 col3\" >-0.053</td>\n",
              "                        <td id=\"T_a9b6c262_c2a4_11e9_8bac_0242ac1c0002row4_col4\" class=\"data row4 col4\" >1</td>\n",
              "                        <td id=\"T_a9b6c262_c2a4_11e9_8bac_0242ac1c0002row4_col5\" class=\"data row4 col5\" >0.53</td>\n",
              "            </tr>\n",
              "            <tr>\n",
              "                        <th id=\"T_a9b6c262_c2a4_11e9_8bac_0242ac1c0002level0_row5\" class=\"row_heading level0 row5\" >EnergyProduction</th>\n",
              "                        <td id=\"T_a9b6c262_c2a4_11e9_8bac_0242ac1c0002row5_col0\" class=\"data row5 col0\" >-0.0083</td>\n",
              "                        <td id=\"T_a9b6c262_c2a4_11e9_8bac_0242ac1c0002row5_col1\" class=\"data row5 col1\" >0.27</td>\n",
              "                        <td id=\"T_a9b6c262_c2a4_11e9_8bac_0242ac1c0002row5_col2\" class=\"data row5 col2\" >-0.23</td>\n",
              "                        <td id=\"T_a9b6c262_c2a4_11e9_8bac_0242ac1c0002row5_col3\" class=\"data row5 col3\" >0.27</td>\n",
              "                        <td id=\"T_a9b6c262_c2a4_11e9_8bac_0242ac1c0002row5_col4\" class=\"data row5 col4\" >0.53</td>\n",
              "                        <td id=\"T_a9b6c262_c2a4_11e9_8bac_0242ac1c0002row5_col5\" class=\"data row5 col5\" >1</td>\n",
              "            </tr>\n",
              "    </tbody></table>"
            ],
            "text/plain": [
              "<pandas.io.formats.style.Styler at 0x7f7d0aa85390>"
            ]
          },
          "metadata": {
            "tags": []
          },
          "execution_count": 11
        }
      ]
    },
    {
      "cell_type": "markdown",
      "metadata": {
        "id": "JuUG4gmQkW00",
        "colab_type": "text"
      },
      "source": [
        "EnergyProduction is most strongly correlated to Daylight, with a positive correlation. <br>\n",
        "It is equally and positively correlated to Year and Temperature. <br>\n",
        "It is slighltly less correlated to Month, with a negative correlation. <br>\n",
        "Its correlation to House is very weak and negative. <br>"
      ]
    },
    {
      "cell_type": "markdown",
      "metadata": {
        "id": "oOLxDmRvf2Ti",
        "colab_type": "text"
      },
      "source": [
        "## MAPE"
      ]
    },
    {
      "cell_type": "markdown",
      "metadata": {
        "id": "-yw9e8UL6bB3",
        "colab_type": "text"
      },
      "source": [
        "First we create two variables, y_train and y_test. <br>\n",
        "We assign them the values of the dependent variable, EnergyProduction, from the training and testing datasets respectively. "
      ]
    },
    {
      "cell_type": "code",
      "metadata": {
        "id": "n0opG54Bo0DN",
        "colab_type": "code",
        "colab": {}
      },
      "source": [
        "y_train = train['EnergyProduction'].values.reshape(-1, 1)\n",
        "y_test = test['EnergyProduction']"
      ],
      "execution_count": 0,
      "outputs": []
    },
    {
      "cell_type": "markdown",
      "metadata": {
        "id": "L7W43kJn6wxb",
        "colab_type": "text"
      },
      "source": [
        "We create a function, mape, that takes the predicted values of EnergyProduction, and returns the mean absolute percentage error. "
      ]
    },
    {
      "cell_type": "code",
      "metadata": {
        "id": "Msa11a3Jc70L",
        "colab_type": "code",
        "colab": {}
      },
      "source": [
        "def mape(predictions):\n",
        "  return round(statistics.mean(abs((y_test - predictions) / y_test)) * 100, 1)"
      ],
      "execution_count": 0,
      "outputs": []
    },
    {
      "cell_type": "markdown",
      "metadata": {
        "id": "QxV6DGcfU4Os",
        "colab_type": "text"
      },
      "source": [
        "## Simple Linear Regression\n"
      ]
    },
    {
      "cell_type": "markdown",
      "metadata": {
        "id": "aI9WIB0N9i48",
        "colab_type": "text"
      },
      "source": [
        "Since we have input variables and an output variable, and our goal is to approximate the mapping function so that with new input data, we can predict the output variables for that data, we need a supervised machine learning algortihm. <br>\n",
        "Since the output variable is of numerical and continous value, linear regression is an appropriate model."
      ]
    },
    {
      "cell_type": "markdown",
      "metadata": {
        "id": "UP84pEjQ8hfJ",
        "colab_type": "text"
      },
      "source": [
        "During our  exploratory data analysis, we found EnergyProduction  to have the strongest correlation to Daylight. <br>\n",
        "We will start by performing a simple linear regression with Daylight as the independent variable, finding the MAPE, and adjusting our model based on the results. "
      ]
    },
    {
      "cell_type": "code",
      "metadata": {
        "id": "o2hy6ChHotH2",
        "colab_type": "code",
        "outputId": "146e73cd-7306-4bca-926e-8473a6db1172",
        "colab": {
          "base_uri": "https://localhost:8080/",
          "height": 34
        }
      },
      "source": [
        "x_train = train['Daylight'].values.reshape(-1, 1)\n",
        "x_test = test['Daylight'].values.reshape(-1, 1)\n",
        "\n",
        "simple_linear_reg = LinearRegression()\n",
        "simple_linear_reg.fit(x_train, y_train)\n",
        "\n",
        "y_pred = simple_linear_reg.predict(x_test)\n",
        "mape(y_pred.flatten())"
      ],
      "execution_count": 47,
      "outputs": [
        {
          "output_type": "execute_result",
          "data": {
            "text/plain": [
              "21.5"
            ]
          },
          "metadata": {
            "tags": []
          },
          "execution_count": 47
        }
      ]
    },
    {
      "cell_type": "markdown",
      "metadata": {
        "id": "w_h3JV7kgKBr",
        "colab_type": "text"
      },
      "source": [
        "MAPE is 21.5 % which is too high. <br>\n",
        "To lower the MAPE, we need a more accurate regression. <br>\n",
        "We can do this by adding independent variables to our model."
      ]
    },
    {
      "cell_type": "markdown",
      "metadata": {
        "id": "apQVIrzrh8dP",
        "colab_type": "text"
      },
      "source": [
        "## Multiple Linear Regression\n",
        "\n",
        "We will now add Temperature as an independent variable in our regression model, turning it into a multiple linear regression."
      ]
    },
    {
      "cell_type": "code",
      "metadata": {
        "id": "Jo3R3N4Sp-0O",
        "colab_type": "code",
        "outputId": "82b35e8e-1a14-4bd1-f88d-cf976b5dfe48",
        "colab": {
          "base_uri": "https://localhost:8080/",
          "height": 34
        }
      },
      "source": [
        "x_train = train[['Daylight', 'Temperature']]\n",
        "x_test = test[['Daylight', 'Temperature']]\n",
        "\n",
        "multiple_linear_reg = LinearRegression()\n",
        "multiple_linear_reg.fit(x_train, y_train)\n",
        "\n",
        "y_pred = multiple_linear_reg.predict(x_test)\n",
        "mape(y_pred.flatten())"
      ],
      "execution_count": 48,
      "outputs": [
        {
          "output_type": "execute_result",
          "data": {
            "text/plain": [
              "17.6"
            ]
          },
          "metadata": {
            "tags": []
          },
          "execution_count": 48
        }
      ]
    },
    {
      "cell_type": "markdown",
      "metadata": {
        "id": "tqUgccLFpzKN",
        "colab_type": "text"
      },
      "source": [
        "MAPE decreased by 3.9 points and is now 17.6%."
      ]
    },
    {
      "cell_type": "markdown",
      "metadata": {
        "id": "tfiSP_uTGvIE",
        "colab_type": "text"
      },
      "source": [
        "We have to make sure that this model is valid by proving no multicollinearity exists between the independent variables, Temperature and Daylight. <br>\n",
        "To do this we will calculate the variance inflation factor (VIF). <br>\n",
        "A VIF below 4 is accepted."
      ]
    },
    {
      "cell_type": "code",
      "metadata": {
        "id": "1CR7xasAGQe7",
        "colab_type": "code",
        "outputId": "82a991fd-6a00-4140-9142-ae4e40fbf056",
        "colab": {
          "base_uri": "https://localhost:8080/",
          "height": 34
        }
      },
      "source": [
        "r_square = multiple_linear_reg.score(x_train, y_train)\n",
        "vif = 1 / (1 - r_square)\n",
        "vif"
      ],
      "execution_count": 26,
      "outputs": [
        {
          "output_type": "execute_result",
          "data": {
            "text/plain": [
              "1.596238194504262"
            ]
          },
          "metadata": {
            "tags": []
          },
          "execution_count": 26
        }
      ]
    },
    {
      "cell_type": "markdown",
      "metadata": {
        "id": "pbg0pSJWHptz",
        "colab_type": "text"
      },
      "source": [
        "vif = 1.60 <br>\n",
        "No strong multicollinearity exists between the independent variables, so we accept the model."
      ]
    },
    {
      "cell_type": "markdown",
      "metadata": {
        "id": "QAWOv4tlwKKG",
        "colab_type": "text"
      },
      "source": [
        "Seeing as EnergyProduction is equally correlated to Temperature and Year, we will add Year as an independent variable to the multiple linear regression and see if it has a positive impact on MAPE."
      ]
    },
    {
      "cell_type": "code",
      "metadata": {
        "id": "AjsbiYr2rNBk",
        "colab_type": "code",
        "outputId": "45a7d8d9-97c5-4210-dbbb-2c3885dea387",
        "colab": {
          "base_uri": "https://localhost:8080/",
          "height": 34
        }
      },
      "source": [
        "x_train = train[['Daylight', 'Temperature', 'Year']]\n",
        "x_test = test[['Daylight', 'Temperature', 'Year']]\n",
        "\n",
        "multiple_linear_reg.fit(x_train, y_train)\n",
        "\n",
        "y_pred = multiple_linear_reg.predict(x_test)\n",
        "mape(y_pred.flatten())"
      ],
      "execution_count": 49,
      "outputs": [
        {
          "output_type": "execute_result",
          "data": {
            "text/plain": [
              "13.4"
            ]
          },
          "metadata": {
            "tags": []
          },
          "execution_count": 49
        }
      ]
    },
    {
      "cell_type": "markdown",
      "metadata": {
        "id": "RKIAGfke3w42",
        "colab_type": "text"
      },
      "source": [
        "MAPE decreased by another 4.2 points and is now 13.4%.\n",
        "\n",
        "\n",
        "\n"
      ]
    },
    {
      "cell_type": "code",
      "metadata": {
        "id": "MYQ_ssuIGlaG",
        "colab_type": "code",
        "outputId": "d6aa683f-bde5-4fdb-8cd4-f8334b92b056",
        "colab": {
          "base_uri": "https://localhost:8080/",
          "height": 34
        }
      },
      "source": [
        "r_square = multiple_linear_reg.score(x_train, y_train)\n",
        "vif = 1 / (1 - r_square)\n",
        "vif"
      ],
      "execution_count": 18,
      "outputs": [
        {
          "output_type": "execute_result",
          "data": {
            "text/plain": [
              "1.6288443466134144"
            ]
          },
          "metadata": {
            "tags": []
          },
          "execution_count": 18
        }
      ]
    },
    {
      "cell_type": "markdown",
      "metadata": {
        "id": "tLTxwc8FH-UO",
        "colab_type": "text"
      },
      "source": [
        "vif = 1.63 <br>\n",
        "No strong multicollinearity exists between the independent variables, so we accept the model."
      ]
    },
    {
      "cell_type": "markdown",
      "metadata": {
        "id": "Yvk74o1tJVgO",
        "colab_type": "text"
      },
      "source": [
        "The model we choose to use is the multiple linear regression with Daylight, Temperature, and Year as independent variables."
      ]
    },
    {
      "cell_type": "markdown",
      "metadata": {
        "id": "-hFv750ECd1O",
        "colab_type": "text"
      },
      "source": [
        "## Output"
      ]
    },
    {
      "cell_type": "markdown",
      "metadata": {
        "id": "Gorevi-nIn8y",
        "colab_type": "text"
      },
      "source": [
        "We create a file called mape.txt that has the MAPE value from our chosen model."
      ]
    },
    {
      "cell_type": "code",
      "metadata": {
        "id": "eY1vVlMrCjbI",
        "colab_type": "code",
        "colab": {}
      },
      "source": [
        "mape = mape(y_pred.flatten())\n",
        "\n",
        "mape_file = open('mape.txt', 'w')\n",
        "mape_file.write('MAPE: ' + str(mape) + \"\\n\")\n",
        "mape_file.close()"
      ],
      "execution_count": 0,
      "outputs": []
    },
    {
      "cell_type": "markdown",
      "metadata": {
        "id": "mX8lnMwsI2n9",
        "colab_type": "text"
      },
      "source": [
        "We create a file called predicted_energy_production.csv that has the predicted EnergyProduction for June 2013 of each house."
      ]
    },
    {
      "cell_type": "code",
      "metadata": {
        "id": "yld6U56nAUl1",
        "colab_type": "code",
        "colab": {}
      },
      "source": [
        "predictions = y_pred.flatten()\n",
        "i = 1\n",
        "\n",
        "prediction_file = open('predicted_energy_production.csv', 'w')\n",
        "prediction_file.write('House,EnergyProduction\\n')\n",
        "for prediction in predictions:    \n",
        "    prediction_file.write(f\"{i}, {prediction}\\n\")\n",
        "    i += 1"
      ],
      "execution_count": 0,
      "outputs": []
    }
  ]
}